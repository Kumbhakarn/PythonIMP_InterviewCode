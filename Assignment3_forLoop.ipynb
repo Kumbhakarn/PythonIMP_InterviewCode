{
 "cells": [
  {
   "cell_type": "markdown",
   "id": "edbbffea",
   "metadata": {},
   "source": [
    "*     \n",
    "*   *     \n",
    "*   *   *     \n",
    "*   *   *   *     \n",
    "*   *   *   *   "
   ]
  },
  {
   "cell_type": "code",
   "execution_count": 2,
   "id": "4c348651",
   "metadata": {},
   "outputs": [
    {
     "name": "stdout",
     "output_type": "stream",
     "text": [
      "\n",
      "* \n",
      "* * \n",
      "* * * \n",
      "* * * * \n",
      "* * * * * \n"
     ]
    }
   ],
   "source": [
    "n = 5\n",
    "for i in range(n+1):\n",
    "    print(\"* \" * i)"
   ]
  },
  {
   "cell_type": "markdown",
   "id": "6bce0f34",
   "metadata": {},
   "source": [
    "      *\n",
    "    * *\n",
    "  * * *\n",
    "* * * *"
   ]
  },
  {
   "cell_type": "code",
   "execution_count": 32,
   "id": "f6961441",
   "metadata": {},
   "outputs": [
    {
     "name": "stdout",
     "output_type": "stream",
     "text": [
      "    *\n",
      "   **\n",
      "  ***\n",
      " ****\n",
      "*****\n"
     ]
    }
   ],
   "source": [
    "n = 5\n",
    "for i in range(1,n+1):\n",
    "    print(' ' * ((n-i)) + ('*'*i))\n",
    "    "
   ]
  },
  {
   "cell_type": "code",
   "execution_count": 26,
   "id": "63da11c9",
   "metadata": {},
   "outputs": [
    {
     "name": "stdout",
     "output_type": "stream",
     "text": [
      "        * \n",
      "      * * \n",
      "    * * * \n",
      "  * * * * \n",
      "* * * * * \n"
     ]
    }
   ],
   "source": [
    "n = 5\n",
    "for i in range(1,n+1):\n",
    "    spaces = ' ' * (2 * (n-i))\n",
    "    star = '* ' * i\n",
    "    print(spaces + star)"
   ]
  },
  {
   "cell_type": "code",
   "execution_count": 33,
   "id": "a0b9c337",
   "metadata": {},
   "outputs": [
    {
     "name": "stdout",
     "output_type": "stream",
     "text": [
      "      * \n",
      "    * * \n",
      "  * * * \n",
      "* * * * \n"
     ]
    }
   ],
   "source": [
    "n = 4\n",
    "for i in range(1,n+1):\n",
    "    print(' '* (2 * (n-i)) + ('* '*i))"
   ]
  },
  {
   "cell_type": "markdown",
   "id": "bc8672d5",
   "metadata": {},
   "source": [
    "       *     \n",
    "     *   *     \n",
    "    *  *  *     \n",
    "  *  *   *   *     \n",
    "*   *  *   *   *    "
   ]
  },
  {
   "cell_type": "code",
   "execution_count": null,
   "id": "78824154",
   "metadata": {},
   "outputs": [
    {
     "name": "stdout",
     "output_type": "stream",
     "text": [
      "         *         \n",
      "       *  *       \n",
      "     *  *  *     \n",
      "   *  *  *  *   \n",
      " *  *  *  *  * \n"
     ]
    }
   ],
   "source": [
    "n = 5\n",
    "for i in range(1,n+1):\n",
    "    space1 = (' ' * (2 * (n-i)))\n",
    "    star = (' * ' * i)\n",
    "    space2 = (' '* (2 * (n-i)))\n",
    "    print(space1 + star +space2)\n",
    "# The output we are getting is not perfect symmetry"
   ]
  },
  {
   "cell_type": "code",
   "execution_count": null,
   "id": "72198233",
   "metadata": {},
   "outputs": [
    {
     "name": "stdout",
     "output_type": "stream",
     "text": [
      "    * \n",
      "   * * \n",
      "  * * * \n",
      " * * * * \n",
      "* * * * * \n"
     ]
    }
   ],
   "source": [
    "n = 5\n",
    "for i in range(1,n+1):\n",
    "    spaces = (' ' * (n-i)) # here we are adding left side spaces only; check in output\n",
    "    star = '* ' * i \n",
    "    print(spaces + star,end='')\n",
    "    print()\n",
    " "
   ]
  },
  {
   "cell_type": "code",
   "execution_count": 67,
   "id": "a823f756",
   "metadata": {},
   "outputs": [
    {
     "name": "stdout",
     "output_type": "stream",
     "text": [
      "    * \n",
      "   * * \n",
      "  * * * \n",
      " * * * * \n",
      "* * * * * \n"
     ]
    }
   ],
   "source": [
    "n = 5\n",
    "for i in range(1,n+1):\n",
    "    print(' ' * (n-i) + '* ' * i,end='') # end='' dosent change the output it's choice\n",
    "    print()"
   ]
  },
  {
   "cell_type": "markdown",
   "id": "fed5d59c",
   "metadata": {},
   "source": [
    "* * * * * * * * *\n",
    "  * * * * * * *\n",
    "    * * * * *\n",
    "      * * *\n",
    "        *"
   ]
  },
  {
   "cell_type": "code",
   "execution_count": 101,
   "id": "638b5ecd",
   "metadata": {},
   "outputs": [
    {
     "name": "stdout",
     "output_type": "stream",
     "text": [
      " * * * * * * * * * \n",
      "  * * * * * * * \n",
      "   * * * * * \n",
      "    * * * \n",
      "     * \n",
      "      \n"
     ]
    }
   ],
   "source": [
    "n = 6\n",
    "for i in range(1,n+1):\n",
    "    print((' '* i) + ('* ' * (2*(n-i)-1)),end='')\n",
    "    print()"
   ]
  },
  {
   "cell_type": "code",
   "execution_count": 102,
   "id": "f1e3d69e",
   "metadata": {},
   "outputs": [
    {
     "name": "stdout",
     "output_type": "stream",
     "text": [
      "* * * * * * * * *\n",
      " * * * * * * *\n",
      "  * * * * *\n",
      "   * * *\n",
      "    *\n"
     ]
    }
   ],
   "source": [
    "n = 5\n",
    "for i in range(n):\n",
    "    spaces = ' ' * i\n",
    "    stars = '* ' * (2 * (n - i) - 1)\n",
    "    print(spaces + stars.rstrip())"
   ]
  },
  {
   "cell_type": "code",
   "execution_count": null,
   "id": "cb1a5077",
   "metadata": {},
   "outputs": [],
   "source": []
  },
  {
   "cell_type": "code",
   "execution_count": null,
   "id": "74b47bba",
   "metadata": {},
   "outputs": [],
   "source": []
  },
  {
   "cell_type": "code",
   "execution_count": null,
   "id": "7ff4081f",
   "metadata": {},
   "outputs": [],
   "source": []
  },
  {
   "cell_type": "code",
   "execution_count": null,
   "id": "012e4cd0",
   "metadata": {},
   "outputs": [],
   "source": []
  },
  {
   "cell_type": "code",
   "execution_count": null,
   "id": "38d95dfa",
   "metadata": {},
   "outputs": [],
   "source": []
  },
  {
   "cell_type": "code",
   "execution_count": null,
   "id": "b95518e5",
   "metadata": {},
   "outputs": [],
   "source": []
  },
  {
   "cell_type": "code",
   "execution_count": null,
   "id": "4becf10e",
   "metadata": {},
   "outputs": [],
   "source": []
  },
  {
   "cell_type": "code",
   "execution_count": null,
   "id": "4466277b",
   "metadata": {},
   "outputs": [],
   "source": []
  },
  {
   "cell_type": "code",
   "execution_count": null,
   "id": "ecc74709",
   "metadata": {},
   "outputs": [],
   "source": []
  },
  {
   "cell_type": "code",
   "execution_count": null,
   "id": "118e0bff",
   "metadata": {},
   "outputs": [],
   "source": []
  }
 ],
 "metadata": {
  "kernelspec": {
   "display_name": "Python 3",
   "language": "python",
   "name": "python3"
  },
  "language_info": {
   "codemirror_mode": {
    "name": "ipython",
    "version": 3
   },
   "file_extension": ".py",
   "mimetype": "text/x-python",
   "name": "python",
   "nbconvert_exporter": "python",
   "pygments_lexer": "ipython3",
   "version": "3.10.11"
  }
 },
 "nbformat": 4,
 "nbformat_minor": 5
}
