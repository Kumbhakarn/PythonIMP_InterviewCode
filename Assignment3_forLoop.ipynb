{
 "cells": [
  {
   "cell_type": "markdown",
   "id": "edbbffea",
   "metadata": {},
   "source": [
    "*     \n",
    "*   *     \n",
    "*   *   *     \n",
    "*   *   *   *     \n",
    "*   *   *   *   "
   ]
  },
  {
   "cell_type": "code",
   "execution_count": 2,
   "id": "4c348651",
   "metadata": {},
   "outputs": [
    {
     "name": "stdout",
     "output_type": "stream",
     "text": [
      "\n",
      "* \n",
      "* * \n",
      "* * * \n",
      "* * * * \n",
      "* * * * * \n"
     ]
    }
   ],
   "source": [
    "n = 5\n",
    "for i in range(n+1):\n",
    "    print(\"* \" * i)"
   ]
  },
  {
   "cell_type": "markdown",
   "id": "6bce0f34",
   "metadata": {},
   "source": [
    "      *\n",
    "    * *\n",
    "  * * *\n",
    "* * * *"
   ]
  },
  {
   "cell_type": "code",
   "execution_count": 32,
   "id": "f6961441",
   "metadata": {},
   "outputs": [
    {
     "name": "stdout",
     "output_type": "stream",
     "text": [
      "    *\n",
      "   **\n",
      "  ***\n",
      " ****\n",
      "*****\n"
     ]
    }
   ],
   "source": [
    "n = 5\n",
    "for i in range(1,n+1):\n",
    "    print(' ' * ((n-i)) + ('*'*i))\n",
    "    "
   ]
  },
  {
   "cell_type": "code",
   "execution_count": 26,
   "id": "63da11c9",
   "metadata": {},
   "outputs": [
    {
     "name": "stdout",
     "output_type": "stream",
     "text": [
      "        * \n",
      "      * * \n",
      "    * * * \n",
      "  * * * * \n",
      "* * * * * \n"
     ]
    }
   ],
   "source": [
    "n = 5\n",
    "for i in range(1,n+1):\n",
    "    spaces = ' ' * (2 * (n-i))\n",
    "    star = '* ' * i\n",
    "    print(spaces + star)"
   ]
  },
  {
   "cell_type": "code",
   "execution_count": 33,
   "id": "a0b9c337",
   "metadata": {},
   "outputs": [
    {
     "name": "stdout",
     "output_type": "stream",
     "text": [
      "      * \n",
      "    * * \n",
      "  * * * \n",
      "* * * * \n"
     ]
    }
   ],
   "source": [
    "n = 4\n",
    "for i in range(1,n+1):\n",
    "    print(' '* (2 * (n-i)) + ('* '*i))"
   ]
  },
  {
   "cell_type": "markdown",
   "id": "bc8672d5",
   "metadata": {},
   "source": [
    "       *     \n",
    "     *   *     \n",
    "    *  *  *     \n",
    "  *  *   *   *     \n",
    "*   *  *   *   *    "
   ]
  },
  {
   "cell_type": "code",
   "execution_count": null,
   "id": "78824154",
   "metadata": {},
   "outputs": [
    {
     "name": "stdout",
     "output_type": "stream",
     "text": [
      "         *         \n",
      "       *  *       \n",
      "     *  *  *     \n",
      "   *  *  *  *   \n",
      " *  *  *  *  * \n"
     ]
    }
   ],
   "source": [
    "n = 5\n",
    "for i in range(1,n+1):\n",
    "    space1 = (' ' * (2 * (n-i)))\n",
    "    star = (' * ' * i)\n",
    "    space2 = (' '* (2 * (n-i)))\n",
    "    print(space1 + star +space2)\n",
    "# The output we are getting is not perfect symmetry"
   ]
  },
  {
   "cell_type": "code",
   "execution_count": null,
   "id": "72198233",
   "metadata": {},
   "outputs": [
    {
     "name": "stdout",
     "output_type": "stream",
     "text": [
      "    * \n",
      "   * * \n",
      "  * * * \n",
      " * * * * \n",
      "* * * * * \n"
     ]
    }
   ],
   "source": [
    "n = 5\n",
    "for i in range(1,n+1):\n",
    "    spaces = (' ' * (n-i)) # here we are adding left side spaces only; check in output\n",
    "    star = '* ' * i \n",
    "    print(spaces + star,end='')\n",
    "    print()\n",
    " "
   ]
  },
  {
   "cell_type": "code",
   "execution_count": 67,
   "id": "a823f756",
   "metadata": {},
   "outputs": [
    {
     "name": "stdout",
     "output_type": "stream",
     "text": [
      "    * \n",
      "   * * \n",
      "  * * * \n",
      " * * * * \n",
      "* * * * * \n"
     ]
    }
   ],
   "source": [
    "n = 5\n",
    "for i in range(1,n+1):\n",
    "    print(' ' * (n-i) + '* ' * i,end='') # end='' dosent change the output it's choice\n",
    "    print()"
   ]
  },
  {
   "cell_type": "markdown",
   "id": "fed5d59c",
   "metadata": {},
   "source": [
    "* * * * * * * * *\n",
    "  * * * * * * *\n",
    "    * * * * *\n",
    "      * * *\n",
    "        *"
   ]
  },
  {
   "cell_type": "code",
   "execution_count": 101,
   "id": "638b5ecd",
   "metadata": {},
   "outputs": [
    {
     "name": "stdout",
     "output_type": "stream",
     "text": [
      " * * * * * * * * * \n",
      "  * * * * * * * \n",
      "   * * * * * \n",
      "    * * * \n",
      "     * \n",
      "      \n"
     ]
    }
   ],
   "source": [
    "n = 6\n",
    "for i in range(1,n+1):\n",
    "    print((' '* i) + ('* ' * (2*(n-i)-1)),end='')\n",
    "    print()"
   ]
  },
  {
   "cell_type": "code",
   "execution_count": 21,
   "id": "f1e3d69e",
   "metadata": {},
   "outputs": [
    {
     "name": "stdout",
     "output_type": "stream",
     "text": [
      "* * * * * * * * * \n",
      " * * * * * * * \n",
      "  * * * * * \n",
      "   * * * \n",
      "    * \n"
     ]
    }
   ],
   "source": [
    "n = 5\n",
    "for i in range(n):\n",
    "    spaces = ' ' * i\n",
    "    stars = '* ' * (2 * (n - i) - 1)\n",
    "    print(spaces + stars)"
   ]
  },
  {
   "cell_type": "code",
   "execution_count": 8,
   "id": "cb1a5077",
   "metadata": {},
   "outputs": [
    {
     "name": "stdout",
     "output_type": "stream",
     "text": [
      "* * * * * * * * * \n",
      "  * * * * * * *   \n",
      "    * * * * *     \n",
      "      * * *       \n",
      "        *         \n"
     ]
    }
   ],
   "source": [
    "n = 5\n",
    "max_width = len('* ' * (2 * n - 1))\n",
    "for i in range(n):\n",
    "    stars = '* ' * (2 * (n-i) - 1)\n",
    "    print(stars.strip().center(max_width))"
   ]
  },
  {
   "cell_type": "markdown",
   "id": "74b47bba",
   "metadata": {},
   "source": [
    "1     \n",
    "1   2     \n",
    "1   2   3     \n",
    "1   2   3   4     \n",
    "1   2   3   4   5   "
   ]
  },
  {
   "cell_type": "code",
   "execution_count": 6,
   "id": "7ff4081f",
   "metadata": {},
   "outputs": [
    {
     "name": "stdout",
     "output_type": "stream",
     "text": [
      "1 \n",
      "1 2 \n",
      "1 2 3 \n",
      "1 2 3 4 \n",
      "1 2 3 4 5 \n"
     ]
    }
   ],
   "source": [
    "num = 5\n",
    "for i in range(1,num+1):\n",
    "    for j in range(1,i+1):\n",
    "        print(j,end=' ')\n",
    "    print()\n",
    "    "
   ]
  },
  {
   "cell_type": "markdown",
   "id": "012e4cd0",
   "metadata": {},
   "source": [
    "1     \n",
    "2   3     \n",
    "4   5   6     \n",
    "7   8   9   10     \n",
    "11   12   13   14   15     \n"
   ]
  },
  {
   "cell_type": "code",
   "execution_count": 19,
   "id": "38d95dfa",
   "metadata": {},
   "outputs": [
    {
     "name": "stdout",
     "output_type": "stream",
     "text": [
      "1 \n",
      "2 3 \n",
      "4 5 6 \n",
      "7 8 9 10 \n",
      "11 12 13 14 15 \n"
     ]
    }
   ],
   "source": [
    "num = 5\n",
    "c = 1\n",
    "for i in range(1,num+1):\n",
    "    for j in range(i):\n",
    "        print(c,end=' ')\n",
    "        c+=1\n",
    "    print()"
   ]
  },
  {
   "cell_type": "markdown",
   "id": "b95518e5",
   "metadata": {},
   "source": [
    "7. Pascal’s Triangle\n",
    "     1\n",
    "    1 1\n",
    "   1 2 1\n",
    "  1 3 3 1\n",
    " 1 4 6 4 1"
   ]
  },
  {
   "cell_type": "code",
   "execution_count": null,
   "id": "4becf10e",
   "metadata": {},
   "outputs": [
    {
     "name": "stdout",
     "output_type": "stream",
     "text": [
      "    1 \n",
      "   1 1 \n",
      "  1 2 1 \n",
      " 1 3 3 1 \n",
      "1 4 6 4 1 \n"
     ]
    }
   ],
   "source": [
    "num = 5\n",
    "for i in range(1,num+1):\n",
    "    for j in range(num-i,0,-1):\n",
    "        print('',end=' ')\n",
    "    c=1\n",
    "    for k in range(1,i+1):\n",
    "        print(c,end=' ')\n",
    "        c = c * (i - k) // k\n",
    "    print() \n"
   ]
  },
  {
   "cell_type": "markdown",
   "id": "4466277b",
   "metadata": {},
   "source": [
    "A                [Use   ASCII   Values]   \n",
    "B   B     \n",
    "C   C   C     \n",
    "D   D   D   D     \n",
    "E   E   E   E   E "
   ]
  },
  {
   "cell_type": "code",
   "execution_count": 8,
   "id": "59e4a966",
   "metadata": {},
   "outputs": [
    {
     "name": "stdout",
     "output_type": "stream",
     "text": [
      "A \n",
      "B B \n",
      "C C C \n",
      "D D D D \n",
      "E E E E E \n"
     ]
    }
   ],
   "source": [
    "num = 5\n",
    "char = 65\n",
    "for i in range(num):\n",
    "    for j in range(i+1):\n",
    "        print(chr(char),end=' ')\n",
    "    char+=1\n",
    "    print()"
   ]
  },
  {
   "cell_type": "markdown",
   "id": "42b73a9a",
   "metadata": {},
   "source": [
    "A     \n",
    "B   C     \n",
    "D   E   F     \n",
    "G   H   I   J     \n",
    "K   L   M   N   O"
   ]
  },
  {
   "cell_type": "code",
   "execution_count": null,
   "id": "1d26f717",
   "metadata": {},
   "outputs": [],
   "source": []
  },
  {
   "cell_type": "code",
   "execution_count": null,
   "id": "a0908b10",
   "metadata": {},
   "outputs": [],
   "source": []
  },
  {
   "cell_type": "code",
   "execution_count": null,
   "id": "ae07da64",
   "metadata": {},
   "outputs": [],
   "source": []
  },
  {
   "cell_type": "code",
   "execution_count": null,
   "id": "2077ebba",
   "metadata": {},
   "outputs": [],
   "source": []
  },
  {
   "cell_type": "code",
   "execution_count": null,
   "id": "c3fced2d",
   "metadata": {},
   "outputs": [],
   "source": []
  },
  {
   "cell_type": "code",
   "execution_count": null,
   "id": "18e33fd6",
   "metadata": {},
   "outputs": [],
   "source": []
  },
  {
   "cell_type": "code",
   "execution_count": null,
   "id": "476cffb0",
   "metadata": {},
   "outputs": [],
   "source": []
  },
  {
   "cell_type": "code",
   "execution_count": null,
   "id": "06d94229",
   "metadata": {},
   "outputs": [],
   "source": []
  },
  {
   "cell_type": "code",
   "execution_count": null,
   "id": "ecc74709",
   "metadata": {},
   "outputs": [],
   "source": []
  },
  {
   "cell_type": "code",
   "execution_count": null,
   "id": "118e0bff",
   "metadata": {},
   "outputs": [],
   "source": []
  }
 ],
 "metadata": {
  "kernelspec": {
   "display_name": "Python 3",
   "language": "python",
   "name": "python3"
  },
  "language_info": {
   "codemirror_mode": {
    "name": "ipython",
    "version": 3
   },
   "file_extension": ".py",
   "mimetype": "text/x-python",
   "name": "python",
   "nbconvert_exporter": "python",
   "pygments_lexer": "ipython3",
   "version": "3.10.11"
  }
 },
 "nbformat": 4,
 "nbformat_minor": 5
}
