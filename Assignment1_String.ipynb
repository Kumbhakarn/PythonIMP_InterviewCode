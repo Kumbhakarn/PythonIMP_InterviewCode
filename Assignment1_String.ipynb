{
 "cells": [
  {
   "cell_type": "markdown",
   "id": "bfbbf3e7",
   "metadata": {},
   "source": [
    "### Write a program to print every character of a string entered by the user in a new line using a loop"
   ]
  },
  {
   "cell_type": "code",
   "execution_count": 1,
   "id": "d4276866",
   "metadata": {},
   "outputs": [
    {
     "name": "stdout",
     "output_type": "stream",
     "text": [
      "A\n",
      "k\n",
      "a\n",
      "s\n",
      "h\n"
     ]
    }
   ],
   "source": [
    "st = input(\"Enter a String: \")\n",
    "for char in st:\n",
    "    print(char)"
   ]
  },
  {
   "cell_type": "markdown",
   "id": "c8c36e25",
   "metadata": {},
   "source": [
    "### Write a program to find the length of the string \"machine learning\" with and without using len function."
   ]
  },
  {
   "cell_type": "code",
   "execution_count": null,
   "id": "a16baafb",
   "metadata": {},
   "outputs": [
    {
     "name": "stdout",
     "output_type": "stream",
     "text": [
      "Length of the string is:  16\n"
     ]
    }
   ],
   "source": [
    "st = \"machine learning\"\n",
    "count = 0  \n",
    "for char in st:\n",
    "    count+=1\n",
    "print(\"Length of the string is: \",count)"
   ]
  },
  {
   "cell_type": "markdown",
   "id": "c64da7aa",
   "metadata": {},
   "source": [
    "### Write a program to check if the word 'orange' is present in the \"This is orange juice\"."
   ]
  },
  {
   "cell_type": "code",
   "execution_count": 5,
   "metadata": {},
   "outputs": [
    {
     "name": "stdout",
     "output_type": "stream",
     "text": [
      "`orange` is present in the string\n"
     ]
    }
   ],
   "source": [
    "st = \"This is orange juice\"\n",
    "sub_st = 'orange'\n",
    "if sub_st.lower() in st.lower():\n",
    "    print(f\"`{sub_st}` is present in the string\")\n",
    "else:\n",
    "    print(f\"{sub_st} is not present\")"
   ]
  },
  {
   "cell_type": "markdown",
   "id": "39611994",
   "metadata": {},
   "source": [
    "### Write a program to find the number of vowels, consonants, digits, and white space characters in a string."
   ]
  },
  {
   "cell_type": "code",
   "execution_count": 11,
   "id": "3b3bdb60",
   "metadata": {},
   "outputs": [
    {
     "name": "stdout",
     "output_type": "stream",
     "text": [
      "Vowels: 8\n",
      "Consonants: 9\n",
      "Digits: 2\n",
      "White Spaces: 4\n"
     ]
    }
   ],
   "source": [
    "st = \"This is orange 12 juice\"\n",
    "v_count = 0\n",
    "c_count = 0\n",
    "d_count = 0\n",
    "w_count = 0\n",
    "vowels = 'aeiou'\n",
    "for char in st.lower():\n",
    "    if char in vowels:\n",
    "        v_count+=1\n",
    "    elif char.isalpha():\n",
    "        c_count+=1\n",
    "    elif char.isdigit():\n",
    "        d_count+=1\n",
    "    elif char.isspace():\n",
    "        w_count+=1\n",
    "\n",
    "print(\"Vowels:\", v_count)\n",
    "print(\"Consonants:\", c_count)\n",
    "print(\"Digits:\", d_count)\n",
    "print(\"White Spaces:\", w_count)"
   ]
  },
  {
   "cell_type": "code",
   "execution_count": null,
   "id": "2642845e",
   "metadata": {},
   "outputs": [],
   "source": []
  },
  {
   "cell_type": "code",
   "execution_count": null,
   "id": "9968d4a2",
   "metadata": {},
   "outputs": [],
   "source": []
  }
 ],
 "metadata": {
  "kernelspec": {
   "display_name": "Python 3",
   "language": "python",
   "name": "python3"
  },
  "language_info": {
   "codemirror_mode": {
    "name": "ipython",
    "version": 3
   },
   "file_extension": ".py",
   "mimetype": "text/x-python",
   "name": "python",
   "nbconvert_exporter": "python",
   "pygments_lexer": "ipython3",
   "version": "3.10.11"
  }
 },
 "nbformat": 4,
 "nbformat_minor": 5
}
