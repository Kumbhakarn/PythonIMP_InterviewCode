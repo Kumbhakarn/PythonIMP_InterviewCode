{
 "cells": [
  {
   "cell_type": "markdown",
   "id": "bfbbf3e7",
   "metadata": {},
   "source": [
    "### Write a program to print every character of a string entered by the user in a new line using a loop"
   ]
  },
  {
   "cell_type": "code",
   "execution_count": 1,
   "id": "d4276866",
   "metadata": {},
   "outputs": [
    {
     "name": "stdout",
     "output_type": "stream",
     "text": [
      "A\n",
      "k\n",
      "a\n",
      "s\n",
      "h\n"
     ]
    }
   ],
   "source": [
    "st = input(\"Enter a String: \")\n",
    "for char in st:\n",
    "    print(char)"
   ]
  },
  {
   "cell_type": "markdown",
   "id": "c8c36e25",
   "metadata": {},
   "source": [
    "### Write a program to find the length of the string \"machine learning\" with and without using len function."
   ]
  },
  {
   "cell_type": "code",
   "execution_count": null,
   "id": "a16baafb",
   "metadata": {},
   "outputs": [
    {
     "name": "stdout",
     "output_type": "stream",
     "text": [
      "Length of the string is:  16\n"
     ]
    }
   ],
   "source": [
    "st = \"machine learning\"\n",
    "count = 0  \n",
    "for char in st:\n",
    "    count+=1\n",
    "print(\"Length of the string is: \",count)"
   ]
  },
  {
   "cell_type": "markdown",
   "id": "c64da7aa",
   "metadata": {},
   "source": [
    "### Write a program to check if the word 'orange' is present in the \"This is orange juice\"."
   ]
  },
  {
   "cell_type": "code",
   "execution_count": 5,
   "metadata": {},
   "outputs": [
    {
     "name": "stdout",
     "output_type": "stream",
     "text": [
      "`orange` is present in the string\n"
     ]
    }
   ],
   "source": [
    "st = \"This is orange juice\"\n",
    "sub_st = 'orange'\n",
    "if sub_st.lower() in st.lower():\n",
    "    print(f\"`{sub_st}` is present in the string\")\n",
    "else:\n",
    "    print(f\"{sub_st} is not present\")"
   ]
  },
  {
   "cell_type": "markdown",
   "id": "39611994",
   "metadata": {},
   "source": [
    "### Write a program to find the number of vowels, consonants, digits, and white space characters in a string."
   ]
  },
  {
   "cell_type": "code",
   "execution_count": 11,
   "id": "3b3bdb60",
   "metadata": {},
   "outputs": [
    {
     "name": "stdout",
     "output_type": "stream",
     "text": [
      "Vowels: 8\n",
      "Consonants: 9\n",
      "Digits: 2\n",
      "White Spaces: 4\n"
     ]
    }
   ],
   "source": [
    "st = \"This is orange 12 juice\"\n",
    "v_count = 0\n",
    "c_count = 0\n",
    "d_count = 0\n",
    "w_count = 0\n",
    "vowels = 'aeiou'\n",
    "for char in st.lower():\n",
    "    if char in vowels:\n",
    "        v_count+=1\n",
    "    elif char.isalpha():\n",
    "        c_count+=1\n",
    "    elif char.isdigit():\n",
    "        d_count+=1\n",
    "    elif char.isspace():\n",
    "        w_count+=1\n",
    "\n",
    "print(\"Vowels:\", v_count)\n",
    "print(\"Consonants:\", c_count)\n",
    "print(\"Digits:\", d_count)\n",
    "print(\"White Spaces:\", w_count)"
   ]
  },
  {
   "cell_type": "markdown",
   "id": "2642845e",
   "metadata": {},
   "source": [
    "### Write a Python program to count Uppercase, Lowercase, special character, and numeric values in a given string."
   ]
  },
  {
   "cell_type": "code",
   "execution_count": 13,
   "id": "9968d4a2",
   "metadata": {},
   "outputs": [
    {
     "name": "stdout",
     "output_type": "stream",
     "text": [
      "Uppercase characters in string:  4\n",
      "Lowercase characters in string:  16\n",
      "Special characters in string:  3\n",
      "Numerical digits in string:  2\n"
     ]
    }
   ],
   "source": [
    "st = \"Py@thon An$d Da#ta Sc2ien1ce\"\n",
    "u_count = 0\n",
    "l_count = 0\n",
    "s_count = 0\n",
    "n_count = 0\n",
    "\n",
    "for char in st:\n",
    "    if char.isupper():\n",
    "        u_count+=1\n",
    "    elif char.islower():\n",
    "        l_count+=1\n",
    "    elif char.isnumeric():\n",
    "        n_count+=1\n",
    "    elif not char.isalnum() and not char.isspace():\n",
    "        s_count += 1\n",
    "\n",
    "print(\"Uppercase characters in string: \", u_count)\n",
    "print(\"Lowercase characters in string: \", l_count)\n",
    "print(\"Special characters in string: \", s_count)\n",
    "print(\"Numerical digits in string: \", n_count)"
   ]
  },
  {
   "cell_type": "markdown",
   "id": "ab5db0c2",
   "metadata": {},
   "source": [
    "### Write a program to make a new string with all the consonants deleted from the\n",
    " string \"Hello, have a good day\""
   ]
  },
  {
   "cell_type": "code",
   "execution_count": 8,
   "id": "40fe1138",
   "metadata": {},
   "outputs": [
    {
     "name": "stdout",
     "output_type": "stream",
     "text": [
      "eo, ae a oo a\n"
     ]
    }
   ],
   "source": [
    "st = \"Hello, have a good day\"\n",
    "vowels = 'aeiou'\n",
    "nw_st = ''\n",
    "for char in st.lower():\n",
    "    if char in vowels or not char.isalpha():\n",
    "        nw_st += char\n",
    "print(nw_st)"
   ]
  },
  {
   "cell_type": "markdown",
   "id": "22ac19b0",
   "metadata": {},
   "source": [
    "### Write a Python program to remove the nth index character from a non-empty string."
   ]
  },
  {
   "cell_type": "code",
   "execution_count": 15,
   "id": "37d26b54",
   "metadata": {},
   "outputs": [
    {
     "name": "stdout",
     "output_type": "stream",
     "text": [
      "Char at that index 2 is:  t\n",
      "Updated String:  Pyhon\n"
     ]
    }
   ],
   "source": [
    "st = 'Python'\n",
    "index = int(input(\"Enter index value to remove the char: \"))\n",
    "if 0 <= index <= len(st):\n",
    "    print(f\"Char at that index {index} is: \",st[index])\n",
    "    new_st = st[:index] + st[index+1:]\n",
    "    print(\"Updated String: \",new_st)\n",
    "else:\n",
    "    print(\"Invalid Index...\")"
   ]
  },
  {
   "cell_type": "markdown",
   "id": "391bcccd",
   "metadata": {},
   "source": [
    "### Write a Python program to change a given string to a new string where the first and last characters have been exchanged."
   ]
  },
  {
   "cell_type": "code",
   "execution_count": 18,
   "id": "d2dfa56a",
   "metadata": {},
   "outputs": [
    {
     "name": "stdout",
     "output_type": "stream",
     "text": [
      "nythoP\n"
     ]
    }
   ],
   "source": [
    "st = 'Python'\n",
    "nw_st = st[-1] + st[1:len(st)-1] + st[0]\n",
    "print(nw_st)"
   ]
  },
  {
   "cell_type": "markdown",
   "id": "a141503b",
   "metadata": {},
   "source": [
    "### Write a Python program to count the occurrences of Count Character Occurrences in a given sentence"
   ]
  },
  {
   "cell_type": "code",
   "execution_count": 25,
   "id": "aab132be",
   "metadata": {},
   "outputs": [
    {
     "data": {
      "text/plain": [
       "{'h': 2, 'e': 2, 'l': 2, 'o': 1, ' ': 1, 'a': 1, 'v': 1}"
      ]
     },
     "execution_count": 25,
     "metadata": {},
     "output_type": "execute_result"
    }
   ],
   "source": [
    "st = 'Hello have'\n",
    "char_count = {}\n",
    "for char in st.lower():\n",
    "    if char in char_count:\n",
    "        char_count[char]+= 1\n",
    "    else:\n",
    "        char_count[char] = 1\n",
    "char_count"
   ]
  },
  {
   "cell_type": "markdown",
   "id": "89f2d6a4",
   "metadata": {},
   "source": [
    "### Write a Python program to count the occurrences of each word in a given sentence."
   ]
  },
  {
   "cell_type": "code",
   "execution_count": null,
   "id": "c17f19a6",
   "metadata": {},
   "outputs": [
    {
     "name": "stdout",
     "output_type": "stream",
     "text": [
      "{'python': 2, 'and': 3, 'data': 1, 'science': 1, 'machine': 1, 'learning': 1}\n"
     ]
    }
   ],
   "source": [
    "st = \"python and Data python and science machine learning and\"\n",
    "\n",
    "words = st.lower().split()\n",
    "word_count = {}\n",
    "count = 0\n",
    "\n",
    "for word in words:\n",
    "    word.strip('!,.&')\n",
    "    if word in word_count:\n",
    "        word_count[word] += 1\n",
    "    else:\n",
    "        word_count[word] = 1\n",
    "word_count"
   ]
  },
  {
   "cell_type": "markdown",
   "id": "ff54fa65",
   "metadata": {},
   "source": [
    "###  How do you count the occurrence of a given character in a string?"
   ]
  },
  {
   "cell_type": "code",
   "execution_count": 5,
   "id": "5bff9d2e",
   "metadata": {},
   "outputs": [
    {
     "name": "stdout",
     "output_type": "stream",
     "text": [
      "Occurance of given `a` char in st is:  3\n"
     ]
    }
   ],
   "source": [
    "st = \"Hello Have a good day\"\n",
    "c_st = input(\"Enter char to find the occurance: \")\n",
    "count = 0\n",
    "for char in st.lower():\n",
    "    if char == c_st:\n",
    "        count += 1\n",
    "print(f\"Occurance of given `{c_st}` char in st is: \",count)\n"
   ]
  },
  {
   "cell_type": "markdown",
   "id": "d8909bcd",
   "metadata": {},
   "source": [
    "### Write a program to find last 10 characters of a string?"
   ]
  },
  {
   "cell_type": "code",
   "execution_count": 12,
   "id": "673d306a",
   "metadata": {},
   "outputs": [
    {
     "name": "stdout",
     "output_type": "stream",
     "text": [
      "Length of the string:  21\n",
      "Last 10 char of the string is:  a good day\n"
     ]
    }
   ],
   "source": [
    "st = \"Hello have a good day\"\n",
    "print(\"Length of the string: \",len(st))\n",
    "nw_st = st[-10:]\n",
    "print(\"Last 10 char of the string is: \",nw_st)"
   ]
  },
  {
   "cell_type": "markdown",
   "id": "39638399",
   "metadata": {},
   "source": [
    "### WAP to convert a given string to all uppercase if it contains at least 2 uppercase characters in the first 4 characters."
   ]
  },
  {
   "cell_type": "code",
   "execution_count": null,
   "id": "f229d059",
   "metadata": {},
   "outputs": [
    {
     "name": "stdout",
     "output_type": "stream",
     "text": [
      "Updated String:  HELLO HAVE A GOOD DAY\n"
     ]
    }
   ],
   "source": [
    "st = \"HeLlo have a good day\"\n",
    "nw_st = ''\n",
    "count = 0\n",
    "\n",
    "for char in st[:4]:\n",
    "    if char.isupper():\n",
    "        count+=1\n",
    "\n",
    "if count>=2:\n",
    "    nw_st = st.upper()\n",
    "else:\n",
    "    nw_st = st\n",
    "    \n",
    "print(\"Updated String: \",nw_st)"
   ]
  },
  {
   "cell_type": "markdown",
   "id": "4a6f2265",
   "metadata": {},
   "source": [
    "### Write a Python program to remove a newline in Python."
   ]
  },
  {
   "cell_type": "code",
   "execution_count": 30,
   "id": "bb2677f8",
   "metadata": {},
   "outputs": [
    {
     "name": "stdout",
     "output_type": "stream",
     "text": [
      "Original String: \n",
      " Hello have a \n",
      " nice day\n",
      "Updated String:  Hello have a  nice day\n"
     ]
    }
   ],
   "source": [
    "text = \"Hello have a \\n nice day\"\n",
    "print(\"Original String: \\n\",text)\n",
    "new_st = text.replace('\\n','')\n",
    "print(\"Updated String: \",new_st)"
   ]
  },
  {
   "cell_type": "markdown",
   "id": "fc1a06c6",
   "metadata": {},
   "source": [
    "### Write a Python program to swap commas and dots in a string\n",
    " ○ Sample string: \"32.054,23\"\n",
    " ○ Expected Output: \"32,054.23\""
   ]
  },
  {
   "cell_type": "code",
   "execution_count": null,
   "id": "9e5dccfb",
   "metadata": {},
   "outputs": [
    {
     "name": "stdout",
     "output_type": "stream",
     "text": [
      "Original String:  32.054,23\n",
      "Updated String:  32,054.23\n"
     ]
    }
   ],
   "source": [
    "st = \"32.054,23\"\n",
    "nw_st = ''\n",
    "\n",
    "for char in st:\n",
    "    if char == \".\":\n",
    "        nw_st += ','\n",
    "    elif char == \",\":\n",
    "        nw_st += \".\"\n",
    "    else:\n",
    "        nw_st += char\n",
    "print(\"Original String: \",st)\n",
    "print(\"Updated String: \",nw_st)"
   ]
  },
  {
   "cell_type": "markdown",
   "id": "1fff25aa",
   "metadata": {},
   "source": [
    "### Write a Python program to find the first repeated character in a given string\n"
   ]
  },
  {
   "cell_type": "code",
   "execution_count": 3,
   "id": "f92e3f26",
   "metadata": {},
   "outputs": [
    {
     "name": "stdout",
     "output_type": "stream",
     "text": [
      "First Repeated Char is:  l\n"
     ]
    }
   ],
   "source": [
    "st = \"Hello have a good day\"\n",
    "nw_st = ''\n",
    "for char in st.lower():\n",
    "    if char in nw_st:\n",
    "        print(\"First Repeated Char is: \",char)\n",
    "        break\n",
    "    nw_st+=char"
   ]
  },
  {
   "cell_type": "markdown",
   "id": "666e73d7",
   "metadata": {},
   "source": [
    "### Write a Python program to find the second most repeated word in a given string"
   ]
  },
  {
   "cell_type": "code",
   "execution_count": null,
   "id": "d8b8d032",
   "metadata": {},
   "outputs": [
    {
     "name": "stdout",
     "output_type": "stream",
     "text": [
      "Second most repeated word is: `world` with count 2\n"
     ]
    }
   ],
   "source": [
    "st = 'Hello world how are you hello python hello world and data science'\n",
    "words = st.lower().split()\n",
    "freq = {}\n",
    "# count the friquency of each word\n",
    "for word in words:\n",
    "    if word in freq:\n",
    "        freq[word]+=1\n",
    "    else:\n",
    "        freq[word]=1\n",
    "# Find the highest and second highest frequencies\n",
    "first = count = 0\n",
    "for count in freq.values():\n",
    "    if count > first:\n",
    "        second = first\n",
    "        first = count\n",
    "    elif first > count > second:\n",
    "        second = count\n",
    "# Find and print the word(s) with the second highest frequency\n",
    "found = False\n",
    "for word in freq:\n",
    "    if freq[word] == second:\n",
    "        print(f\"Second most repeated word is: `{word}` with count {second}\")\n",
    "        found = True\n",
    "if not found:\n",
    "    print(\"No second most repeated word found\")"
   ]
  },
  {
   "cell_type": "markdown",
   "id": "7112700f",
   "metadata": {},
   "source": [
    "### Python program to Count Even and Odd numbers in a string\n"
   ]
  },
  {
   "cell_type": "code",
   "execution_count": 11,
   "id": "729f46e2",
   "metadata": {},
   "outputs": [
    {
     "name": "stdout",
     "output_type": "stream",
     "text": [
      "Even digit count:  4\n",
      "Odd digit count:  3\n"
     ]
    }
   ],
   "source": [
    "st = \"Python 234 is an 89 amazing 41 tool\"\n",
    "even_count = 0\n",
    "odd_count = 0\n",
    "for char in st:\n",
    "    if char.isdigit():\n",
    "        digit = int(char)\n",
    "        if digit % 2 == 0:\n",
    "            even_count += 1\n",
    "        else:\n",
    "            odd_count += 1\n",
    "print(\"Even digit count: \",even_count)\n",
    "print(\"Odd digit count: \",odd_count)"
   ]
  },
  {
   "cell_type": "markdown",
   "id": "b24d487c",
   "metadata": {},
   "source": [
    "### How do you check if a string contains only digits?"
   ]
  },
  {
   "cell_type": "code",
   "execution_count": 13,
   "id": "318ee2a1",
   "metadata": {},
   "outputs": [
    {
     "name": "stdout",
     "output_type": "stream",
     "text": [
      "The string contains only digits.\n"
     ]
    }
   ],
   "source": [
    "st = '12345'\n",
    "if st.isdigit():\n",
    "    print(\"The string contains only digits.\")\n",
    "else:\n",
    "    print(\"The string does not contain only digits.\")"
   ]
  },
  {
   "cell_type": "markdown",
   "id": "3b52c0b8",
   "metadata": {},
   "source": [
    "### How do you remove a given character/word from String?"
   ]
  },
  {
   "cell_type": "code",
   "execution_count": null,
   "id": "1cba3596",
   "metadata": {},
   "outputs": [
    {
     "name": "stdout",
     "output_type": "stream",
     "text": [
      "Original String:  Hello how are you\n",
      "Updated String:  Hello how re you\n"
     ]
    }
   ],
   "source": [
    "st = 'Hello how are you'\n",
    "print(\"Original String: \",st)\n",
    "sub_char = input(\"Enter a char to remove from string: \")\n",
    "for char in st.lower():\n",
    "    if char == sub_char:\n",
    "        st = st.replace(sub_char,'')\n",
    "print(\"Updated String: \",st)\n"
   ]
  },
  {
   "cell_type": "markdown",
   "id": "9b06683f",
   "metadata": {},
   "source": [
    "### Write a Python program to remove the characters which have odd index values of a given string"
   ]
  },
  {
   "cell_type": "code",
   "execution_count": 21,
   "id": "94293219",
   "metadata": {},
   "outputs": [
    {
     "name": "stdout",
     "output_type": "stream",
     "text": [
      "Updated String : Hlohwaeyu\n"
     ]
    }
   ],
   "source": [
    "st = 'Hello how are you'\n",
    "new_st = ''\n",
    "for index, char in enumerate(st):\n",
    "        if index % 2 == 0:\n",
    "              new_st += char\n",
    "print(\"Updated String :\",new_st)"
   ]
  },
  {
   "cell_type": "code",
   "execution_count": 22,
   "id": "06011e72",
   "metadata": {},
   "outputs": [
    {
     "name": "stdout",
     "output_type": "stream",
     "text": [
      "Modified String: PtoPorm\n"
     ]
    }
   ],
   "source": [
    "st = \"PythonProgram\"\n",
    "new_str = st[::2]\n",
    "print(\"Modified String:\", new_str)"
   ]
  },
  {
   "cell_type": "code",
   "execution_count": 23,
   "id": "708f6471",
   "metadata": {},
   "outputs": [
    {
     "name": "stdout",
     "output_type": "stream",
     "text": [
      "Original String:  Hello how are you\n",
      "Updated String:  Hlohwaeyu\n"
     ]
    }
   ],
   "source": [
    "st = 'Hello how are you'\n",
    "new_st = ''\n",
    "for i in range(len(st)):\n",
    "    if i % 2 == 0:\n",
    "        new_st += st[i]\n",
    "\n",
    "print(\"Original String: \",st)\n",
    "print(\"Updated String: \",new_st)"
   ]
  },
  {
   "cell_type": "code",
   "execution_count": null,
   "id": "9e591145",
   "metadata": {},
   "outputs": [],
   "source": []
  },
  {
   "cell_type": "code",
   "execution_count": null,
   "id": "a62f6519",
   "metadata": {},
   "outputs": [],
   "source": []
  },
  {
   "cell_type": "code",
   "execution_count": null,
   "id": "7ec56915",
   "metadata": {},
   "outputs": [],
   "source": []
  },
  {
   "cell_type": "code",
   "execution_count": null,
   "id": "43ba0ce2",
   "metadata": {},
   "outputs": [],
   "source": []
  },
  {
   "cell_type": "code",
   "execution_count": null,
   "id": "aec2221b",
   "metadata": {},
   "outputs": [],
   "source": []
  },
  {
   "cell_type": "code",
   "execution_count": null,
   "id": "3dd85689",
   "metadata": {},
   "outputs": [],
   "source": []
  },
  {
   "cell_type": "code",
   "execution_count": null,
   "id": "a4e7716c",
   "metadata": {},
   "outputs": [],
   "source": []
  },
  {
   "cell_type": "code",
   "execution_count": null,
   "id": "d3635cf4",
   "metadata": {},
   "outputs": [],
   "source": []
  },
  {
   "cell_type": "code",
   "execution_count": null,
   "id": "7857eaf6",
   "metadata": {},
   "outputs": [],
   "source": []
  }
 ],
 "metadata": {
  "kernelspec": {
   "display_name": "Python 3",
   "language": "python",
   "name": "python3"
  },
  "language_info": {
   "codemirror_mode": {
    "name": "ipython",
    "version": 3
   },
   "file_extension": ".py",
   "mimetype": "text/x-python",
   "name": "python",
   "nbconvert_exporter": "python",
   "pygments_lexer": "ipython3",
   "version": "3.10.11"
  }
 },
 "nbformat": 4,
 "nbformat_minor": 5
}
