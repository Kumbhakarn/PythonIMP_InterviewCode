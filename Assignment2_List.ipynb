{
 "cells": [
  {
   "cell_type": "markdown",
   "id": "bbe70e5c",
   "metadata": {},
   "source": [
    "### Python Program to find the largest element in the list\n"
   ]
  },
  {
   "cell_type": "code",
   "execution_count": 3,
   "id": "48ac0821",
   "metadata": {},
   "outputs": [
    {
     "name": "stdout",
     "output_type": "stream",
     "text": [
      "Largest element List is:  44\n"
     ]
    }
   ],
   "source": [
    "li = [1,21,3,44,11]\n",
    "Max = 0\n",
    "for num in li:\n",
    "    if num > Max:\n",
    "        Max = num\n",
    "print(\"Largest element List is: \",Max)"
   ]
  },
  {
   "cell_type": "markdown",
   "id": "feae5893",
   "metadata": {},
   "source": [
    "### Python program to interchange first and last elements in a list"
   ]
  },
  {
   "cell_type": "code",
   "execution_count": 4,
   "id": "108a9d9b",
   "metadata": {},
   "outputs": [
    {
     "name": "stdout",
     "output_type": "stream",
     "text": [
      "Orginal List:  ['hello', 44, 11, 'li', 55]\n",
      "Updated List:  [55, 44, 11, 'li', 'hello']\n"
     ]
    }
   ],
   "source": [
    "li = ['hello', 44 ,11, 'li',55]\n",
    "print(\"Orginal List: \",li)\n",
    "li[0],li[-1] = li[-1],li[0]\n",
    "print(\"Updated List: \",li)"
   ]
  },
  {
   "cell_type": "markdown",
   "id": "5def827c",
   "metadata": {},
   "source": [
    "### Python program to swap two elements in a list"
   ]
  },
  {
   "cell_type": "code",
   "execution_count": 3,
   "id": "b1bfeafb",
   "metadata": {},
   "outputs": [
    {
     "name": "stdout",
     "output_type": "stream",
     "text": [
      "Original List:  ['python', 101, 'data', 88, 75]\n",
      "Updated list:  [88, 101, 'data', 'python', 75]\n"
     ]
    }
   ],
   "source": [
    "li = ['python',101,'data',88,75]\n",
    "print('Original List: ',li)\n",
    "index1 = int(input(\"Enter the 1st index: \"))\n",
    "index2 = int(input(\"Enter the 2nd index to swap: \"))\n",
    "temp = li[index1]\n",
    "li[index1] = li[index2]\n",
    "li[index2] = temp\n",
    "print(\"Updated list: \",li)"
   ]
  },
  {
   "cell_type": "markdown",
   "id": "05cf195c",
   "metadata": {},
   "source": [
    "### Python program to Reverse a List"
   ]
  },
  {
   "cell_type": "code",
   "execution_count": 5,
   "id": "a18e8c61",
   "metadata": {},
   "outputs": [
    {
     "data": {
      "text/plain": [
       "[75, 88, 'data', 101, 'python']"
      ]
     },
     "execution_count": 5,
     "metadata": {},
     "output_type": "execute_result"
    }
   ],
   "source": [
    "li = ['python',101,'data',88,75]\n",
    "li[::-1] # reverse list"
   ]
  },
  {
   "cell_type": "markdown",
   "id": "52030d8c",
   "metadata": {},
   "source": [
    "### Python program to count occurrences of an element in a list\n"
   ]
  },
  {
   "cell_type": "code",
   "execution_count": 6,
   "id": "0eab58fa",
   "metadata": {},
   "outputs": [
    {
     "name": "stdout",
     "output_type": "stream",
     "text": [
      "Occurance of element 101 is 2\n"
     ]
    }
   ],
   "source": [
    "li = ['python', '101', 'data', '101', 'data']\n",
    "count = 0\n",
    "elem = input(\"Enter element to count the occurance: \")\n",
    "for i in li:\n",
    "    if i == elem:\n",
    "        count+=1\n",
    "print(f\"Occurance of element {elem} is {count}\")"
   ]
  },
  {
   "cell_type": "code",
   "execution_count": 8,
   "id": "3f8af640",
   "metadata": {},
   "outputs": [
    {
     "name": "stdout",
     "output_type": "stream",
     "text": [
      "The element '101' occurs 2 times in the list.\n"
     ]
    }
   ],
   "source": [
    "li = ['python', '101', 'data', '101', 'data']\n",
    "elem = input(\"Enter element to count the occurance: \")\n",
    "count = li.count(elem)\n",
    "print(f\"The element '{elem}' occurs {count} times in the list.\")"
   ]
  },
  {
   "cell_type": "markdown",
   "id": "c4ab1955",
   "metadata": {},
   "source": [
    "### Python program to find the sum of elements in a list"
   ]
  },
  {
   "cell_type": "code",
   "execution_count": 12,
   "id": "e99c8494",
   "metadata": {},
   "outputs": [
    {
     "name": "stdout",
     "output_type": "stream",
     "text": [
      "Sum of elements in the list is:  15\n"
     ]
    }
   ],
   "source": [
    "li = [1,2,3,4,5]\n",
    "Sum = 0\n",
    "for i in li:\n",
    "    Sum+=i\n",
    "print(\"Sum of elements in the list is: \",Sum)"
   ]
  },
  {
   "cell_type": "markdown",
   "id": "2e3ee44d",
   "metadata": {},
   "source": [
    "### Python program to Multiply all numbers in the list"
   ]
  },
  {
   "cell_type": "code",
   "execution_count": 13,
   "id": "2586c348",
   "metadata": {},
   "outputs": [
    {
     "name": "stdout",
     "output_type": "stream",
     "text": [
      "Multiplication of list elements is:  120\n"
     ]
    }
   ],
   "source": [
    "li = [1,2,3,4,5]\n",
    "mul = 1\n",
    "for i in li:\n",
    "    mul*=i\n",
    "print(\"Multiplication of list elements is: \",mul)"
   ]
  },
  {
   "cell_type": "markdown",
   "id": "6db060ad",
   "metadata": {},
   "source": [
    "### What are the ways to find the length of a list"
   ]
  },
  {
   "cell_type": "code",
   "execution_count": 14,
   "id": "594ea35c",
   "metadata": {},
   "outputs": [
    {
     "name": "stdout",
     "output_type": "stream",
     "text": [
      "Length of list is:  5\n"
     ]
    }
   ],
   "source": [
    "li = [1,2,3,4,5]\n",
    "count = 0\n",
    "for i in li:\n",
    "    count+=1\n",
    "print(\"Length of list is: \",count)"
   ]
  },
  {
   "cell_type": "code",
   "execution_count": 16,
   "id": "0d31e5f0",
   "metadata": {},
   "outputs": [
    {
     "name": "stdout",
     "output_type": "stream",
     "text": [
      "Length of the list is:  5\n"
     ]
    }
   ],
   "source": [
    "li = [1,2,3,4,5]\n",
    "print(\"Length of the list is: \",len(li))"
   ]
  },
  {
   "cell_type": "code",
   "execution_count": 17,
   "id": "e88d293a",
   "metadata": {},
   "outputs": [
    {
     "name": "stdout",
     "output_type": "stream",
     "text": [
      "5\n"
     ]
    }
   ],
   "source": [
    "li = [1,2,3,4,5]\n",
    "length = sum(1 for _ in li)\n",
    "print(length)"
   ]
  },
  {
   "cell_type": "code",
   "execution_count": 18,
   "id": "ad37856f",
   "metadata": {},
   "outputs": [
    {
     "name": "stdout",
     "output_type": "stream",
     "text": [
      "5\n"
     ]
    }
   ],
   "source": [
    "li = [1,2,3,4,5]\n",
    "for i, _ in enumerate(li, start=1):\n",
    "    pass\n",
    "print(i)"
   ]
  },
  {
   "cell_type": "markdown",
   "id": "6236405a",
   "metadata": {},
   "source": [
    "### Python program to find the smallest and largest number in a list (Without min-max function)"
   ]
  },
  {
   "cell_type": "code",
   "execution_count": 4,
   "id": "47d8b0eb",
   "metadata": {},
   "outputs": [
    {
     "name": "stdout",
     "output_type": "stream",
     "text": [
      "Larges element 22 and Smalles element is 1\n"
     ]
    }
   ],
   "source": [
    "li = [11,3,22,1,5,8]\n",
    "Max = li[0]\n",
    "Min = li[0]\n",
    "for i in li:\n",
    "    if i < Min:\n",
    "        Min = i\n",
    "    elif i > Max:\n",
    "        Max = i\n",
    "print(f\"Larges element {Max} and Smalles element is {Min}\")"
   ]
  },
  {
   "cell_type": "markdown",
   "id": "d743e83f",
   "metadata": {},
   "source": [
    "### Python Program to find the area of a circle"
   ]
  },
  {
   "cell_type": "code",
   "execution_count": 6,
   "id": "0a14cfe2",
   "metadata": {},
   "outputs": [
    {
     "name": "stdout",
     "output_type": "stream",
     "text": [
      "Area of Circle:  78.5\n"
     ]
    }
   ],
   "source": [
    "radious = int(input(\"Enter the radious of Circle: \"))\n",
    "area_circle = 3.14 * (radious ** 2)\n",
    "print(\"Area of Circle: \",area_circle)"
   ]
  },
  {
   "cell_type": "markdown",
   "id": "b0acb739",
   "metadata": {},
   "source": [
    "### Take inputs from the user to make a list. Again take one input from the user and search it in the list and delete that element, if found. Iterate over a list using for loop."
   ]
  },
  {
   "cell_type": "code",
   "execution_count": 14,
   "id": "82a88a71",
   "metadata": {},
   "outputs": [
    {
     "name": "stdout",
     "output_type": "stream",
     "text": [
      "Original List:  ['python', '101', 'data', '102', 'machine', '103', 'learning', '104']\n",
      "Updated List:  ['python', '101', 'data', 'machine', '103', 'learning', '104']\n"
     ]
    }
   ],
   "source": [
    "user_lst = input(\"Enter elements in list (space-separated): \").split()\n",
    "print('Original List: ',user_lst)\n",
    "\n",
    "find_element = input(\"Enter the element to find in the list: \")\n",
    "found = False # Assume element is not found\n",
    "for char in user_lst:\n",
    "    if char == find_element:\n",
    "        user_lst.remove(find_element)\n",
    "        found = True # Found and removed\n",
    "        break\n",
    "\n",
    "if not found:\n",
    "    print(\"Element not found in the list\")\n",
    "print(\"Updated List: \",user_lst)"
   ]
  },
  {
   "cell_type": "markdown",
   "id": "59a214dd",
   "metadata": {},
   "source": [
    "### You are given a list of integer elements. Make a new list that will store a square of elements of the previous list. (With and without list comprehension)\n",
    "- Input_list = [2,5,6,12]\n",
    "- Output_list = [4,25,36,144]"
   ]
  },
  {
   "cell_type": "code",
   "execution_count": 16,
   "id": "862bd509",
   "metadata": {},
   "outputs": [
    {
     "name": "stdout",
     "output_type": "stream",
     "text": [
      "Original List:  [2, 5, 6, 12]\n",
      "Updated List:  [4, 25, 36, 144]\n"
     ]
    }
   ],
   "source": [
    "li = [2,5,6,12]\n",
    "sq_li = []\n",
    "for num in li:\n",
    "    sq_li.append(num**2)\n",
    "print(\"Original List: \",li)\n",
    "print('Updated List: ',sq_li)"
   ]
  },
  {
   "cell_type": "markdown",
   "id": "5ab74c92",
   "metadata": {},
   "source": [
    "### WAP to create two lists, one containing all even numbers and the other containing all odd numbers between 0 to 151"
   ]
  },
  {
   "cell_type": "code",
   "execution_count": 17,
   "id": "a2fcc992",
   "metadata": {},
   "outputs": [
    {
     "name": "stdout",
     "output_type": "stream",
     "text": [
      "Even List: \n",
      " [2, 4, 6, 8, 10, 12, 14, 16, 18, 20, 22, 24, 26, 28, 30, 32, 34, 36, 38, 40, 42, 44, 46, 48, 50, 52, 54, 56, 58, 60, 62, 64, 66, 68, 70, 72, 74, 76, 78, 80, 82, 84, 86, 88, 90, 92, 94, 96, 98, 100, 102, 104, 106, 108, 110, 112, 114, 116, 118, 120, 122, 124, 126, 128, 130, 132, 134, 136, 138, 140, 142, 144, 146, 148, 150]\n",
      "Odd List: \n",
      " [1, 3, 5, 7, 9, 11, 13, 15, 17, 19, 21, 23, 25, 27, 29, 31, 33, 35, 37, 39, 41, 43, 45, 47, 49, 51, 53, 55, 57, 59, 61, 63, 65, 67, 69, 71, 73, 75, 77, 79, 81, 83, 85, 87, 89, 91, 93, 95, 97, 99, 101, 103, 105, 107, 109, 111, 113, 115, 117, 119, 121, 123, 125, 127, 129, 131, 133, 135, 137, 139, 141, 143, 145, 147, 149, 151]\n"
     ]
    }
   ],
   "source": [
    "num = 151\n",
    "eve_li = []\n",
    "odd_li = []\n",
    "for n in range(1,num+1):\n",
    "    if n % 2 == 0:\n",
    "        eve_li.append(n)\n",
    "    else:\n",
    "        odd_li.append(n)\n",
    "print(\"Even List: \\n\",eve_li)\n",
    "print(\"Odd List: \\n\",odd_li)"
   ]
  },
  {
   "cell_type": "markdown",
   "id": "8355a917",
   "metadata": {},
   "source": [
    "### Python program to Count Even and Odd numbers in a List"
   ]
  },
  {
   "cell_type": "code",
   "execution_count": 18,
   "id": "09d8caee",
   "metadata": {},
   "outputs": [
    {
     "name": "stdout",
     "output_type": "stream",
     "text": [
      "Even count 5 and Odd count 3\n"
     ]
    }
   ],
   "source": [
    "li = [2,1,11,22,32,4,6,9]\n",
    "eve_count = 0\n",
    "odd_count = 0\n",
    "for n in li:\n",
    "    if n % 2 == 0:\n",
    "        eve_count += 1\n",
    "    else:\n",
    "        odd_count += 1\n",
    "print(f\"Even count {eve_count} and Odd count {odd_count}\")"
   ]
  },
  {
   "cell_type": "markdown",
   "id": "92b9fc99",
   "metadata": {},
   "source": [
    "### WAP to make new lists, containing only numbers which are divisible by 4, 6, 8, 10, 3, 5, 7, and 9 in separate lists for range(0,151)"
   ]
  },
  {
   "cell_type": "code",
   "execution_count": 19,
   "id": "adcf59bd",
   "metadata": {},
   "outputs": [
    {
     "name": "stdout",
     "output_type": "stream",
     "text": [
      "Divisible by 3:  [0, 3, 6, 9, 12, 15, 18, 21, 24, 27, 30, 33, 36, 39, 42, 45, 48, 51, 54, 57, 60, 63, 66, 69, 72, 75, 78, 81, 84, 87, 90, 93, 96, 99, 102, 105, 108, 111, 114, 117, 120, 123, 126, 129, 132, 135, 138, 141, 144, 147, 150]\n",
      "Divisible by 4:  [0, 4, 8, 12, 16, 20, 24, 28, 32, 36, 40, 44, 48, 52, 56, 60, 64, 68, 72, 76, 80, 84, 88, 92, 96, 100, 104, 108, 112, 116, 120, 124, 128, 132, 136, 140, 144, 148]\n",
      "Divisible by 5:  [0, 5, 10, 15, 20, 25, 30, 35, 40, 45, 50, 55, 60, 65, 70, 75, 80, 85, 90, 95, 100, 105, 110, 115, 120, 125, 130, 135, 140, 145, 150]\n",
      "Divisible by 6:  [0, 6, 12, 18, 24, 30, 36, 42, 48, 54, 60, 66, 72, 78, 84, 90, 96, 102, 108, 114, 120, 126, 132, 138, 144, 150]\n",
      "Divisible by 7:  [0, 7, 14, 21, 28, 35, 42, 49, 56, 63, 70, 77, 84, 91, 98, 105, 112, 119, 126, 133, 140, 147]\n",
      "Divisible by 8:  [0, 8, 16, 24, 32, 40, 48, 56, 64, 72, 80, 88, 96, 104, 112, 120, 128, 136, 144]\n",
      "Divisible by 9:  [0, 9, 18, 27, 36, 45, 54, 63, 72, 81, 90, 99, 108, 117, 126, 135, 144]\n",
      "Divisible by 10: [0, 10, 20, 30, 40, 50, 60, 70, 80, 90, 100, 110, 120, 130, 140, 150]\n"
     ]
    }
   ],
   "source": [
    "# Create empty lists for each divisor\n",
    "div_by_3 = []\n",
    "div_by_4 = []\n",
    "div_by_5 = []\n",
    "div_by_6 = []\n",
    "div_by_7 = []\n",
    "div_by_8 = []\n",
    "div_by_9 = []\n",
    "div_by_10 = []\n",
    "\n",
    "# Iterate through range 0 to 150 (inclusive of 150)\n",
    "for num in range(0, 151):\n",
    "    if num % 3 == 0:\n",
    "        div_by_3.append(num)\n",
    "    if num % 4 == 0:\n",
    "        div_by_4.append(num)\n",
    "    if num % 5 == 0:\n",
    "        div_by_5.append(num)\n",
    "    if num % 6 == 0:\n",
    "        div_by_6.append(num)\n",
    "    if num % 7 == 0:\n",
    "        div_by_7.append(num)\n",
    "    if num % 8 == 0:\n",
    "        div_by_8.append(num)\n",
    "    if num % 9 == 0:\n",
    "        div_by_9.append(num)\n",
    "    if num % 10 == 0:\n",
    "        div_by_10.append(num)\n",
    "\n",
    "# Display results\n",
    "print(\"Divisible by 3: \", div_by_3)\n",
    "print(\"Divisible by 4: \", div_by_4)\n",
    "print(\"Divisible by 5: \", div_by_5)\n",
    "print(\"Divisible by 6: \", div_by_6)\n",
    "print(\"Divisible by 7: \", div_by_7)\n",
    "print(\"Divisible by 8: \", div_by_8)\n",
    "print(\"Divisible by 9: \", div_by_9)\n",
    "print(\"Divisible by 10:\", div_by_10)"
   ]
  },
  {
   "cell_type": "markdown",
   "id": "aebe321d",
   "metadata": {},
   "source": [
    "### Want to Display as Dictionary?\n",
    "- You can also store these lists in a dictionary like:"
   ]
  },
  {
   "cell_type": "code",
   "execution_count": 20,
   "id": "8c44b2e5",
   "metadata": {},
   "outputs": [
    {
     "name": "stdout",
     "output_type": "stream",
     "text": [
      "Divisible by 3: [0, 3, 6, 9, 12, 15, 18, 21, 24, 27, 30, 33, 36, 39, 42, 45, 48, 51, 54, 57, 60, 63, 66, 69, 72, 75, 78, 81, 84, 87, 90, 93, 96, 99, 102, 105, 108, 111, 114, 117, 120, 123, 126, 129, 132, 135, 138, 141, 144, 147, 150]\n",
      "Divisible by 4: [0, 4, 8, 12, 16, 20, 24, 28, 32, 36, 40, 44, 48, 52, 56, 60, 64, 68, 72, 76, 80, 84, 88, 92, 96, 100, 104, 108, 112, 116, 120, 124, 128, 132, 136, 140, 144, 148]\n",
      "Divisible by 5: [0, 5, 10, 15, 20, 25, 30, 35, 40, 45, 50, 55, 60, 65, 70, 75, 80, 85, 90, 95, 100, 105, 110, 115, 120, 125, 130, 135, 140, 145, 150]\n",
      "Divisible by 6: [0, 6, 12, 18, 24, 30, 36, 42, 48, 54, 60, 66, 72, 78, 84, 90, 96, 102, 108, 114, 120, 126, 132, 138, 144, 150]\n",
      "Divisible by 7: [0, 7, 14, 21, 28, 35, 42, 49, 56, 63, 70, 77, 84, 91, 98, 105, 112, 119, 126, 133, 140, 147]\n",
      "Divisible by 8: [0, 8, 16, 24, 32, 40, 48, 56, 64, 72, 80, 88, 96, 104, 112, 120, 128, 136, 144]\n",
      "Divisible by 9: [0, 9, 18, 27, 36, 45, 54, 63, 72, 81, 90, 99, 108, 117, 126, 135, 144]\n",
      "Divisible by 10: [0, 10, 20, 30, 40, 50, 60, 70, 80, 90, 100, 110, 120, 130, 140, 150]\n"
     ]
    }
   ],
   "source": [
    "div_dict = {\n",
    "    3: [],4:[],5:[],6:[],7:[],8:[],9:[],10:[] \n",
    "}\n",
    "\n",
    "for num in range(0,151):\n",
    "    for key in div_dict:\n",
    "        if num % key == 0:\n",
    "            div_dict[key].append(num)\n",
    "for key in div_dict:\n",
    "    print(f\"Divisible by {key}: {div_dict[key]}\")"
   ]
  },
  {
   "cell_type": "markdown",
   "id": "d53c6dc1",
   "metadata": {},
   "source": [
    "### From a list containing ints, strings, and floats, make three lists to store them separately."
   ]
  },
  {
   "cell_type": "code",
   "execution_count": 24,
   "id": "22dbff37",
   "metadata": {},
   "outputs": [
    {
     "name": "stdout",
     "output_type": "stream",
     "text": [
      "String List:  ['python', 'data']\n",
      "Int List :  [101, 102]\n",
      "Float List:  [12.5, 44.32]\n"
     ]
    }
   ],
   "source": [
    "li = ['python', 101,12.5,'data',44.32,102]\n",
    "int_lst = []\n",
    "str_lst = []\n",
    "flt_lst = []\n",
    "for char in li:\n",
    "    if type(char) == int:\n",
    "        int_lst.append(char)\n",
    "    elif type(char) == float:\n",
    "        flt_lst.append(char)\n",
    "    else:\n",
    "        str_lst.append(char)\n",
    "print(\"String List: \",str_lst)\n",
    "print(\"Int List : \",int_lst)\n",
    "print(\"Float List: \",flt_lst)"
   ]
  },
  {
   "cell_type": "markdown",
   "id": "9ba6e3ad",
   "metadata": {},
   "source": [
    "### Write a Python program to append a list to the second list"
   ]
  },
  {
   "cell_type": "code",
   "execution_count": 28,
   "id": "a6c85841",
   "metadata": {},
   "outputs": [
    {
     "name": "stdout",
     "output_type": "stream",
     "text": [
      "updated List:  [1, 2, 3, 4, 5, 6, 7, 8]\n"
     ]
    }
   ],
   "source": [
    "li = [1,2,3,4]\n",
    "li2 = [5,6,7,8]\n",
    "li.extend(li2)\n",
    "print(\"updated List: \",li)"
   ]
  },
  {
   "cell_type": "markdown",
   "id": "01036908",
   "metadata": {},
   "source": [
    "### Write a Python program to find the third-largest number in a list"
   ]
  },
  {
   "cell_type": "markdown",
   "id": "13db8f29",
   "metadata": {},
   "source": [
    "- float('-inf') is used to ensure any number in the list will be larger than the initial values."
   ]
  },
  {
   "cell_type": "code",
   "execution_count": null,
   "id": "f2cae038",
   "metadata": {},
   "outputs": [
    {
     "name": "stdout",
     "output_type": "stream",
     "text": [
      "Original List is:  [32, 2, 1, 54, 5, 3, 10]\n",
      "Third largest element in the list is:  10\n"
     ]
    }
   ],
   "source": [
    "li = [32,2,1,54,5,3,10]\n",
    "\n",
    "first = second = third = float('-inf')\n",
    "\n",
    "for num in li:\n",
    "    if num > first:\n",
    "        third = second\n",
    "        second = first\n",
    "        first = num\n",
    "    elif num > second and num != first:\n",
    "        third = second\n",
    "        second = num\n",
    "\n",
    "    elif num > third and num != second and num != first:\n",
    "        third = num\n",
    "\n",
    "print(\"Original List is: \",li)\n",
    "print(\"Third largest element in the list is: \",third)"
   ]
  },
  {
   "cell_type": "code",
   "execution_count": 36,
   "id": "3addbba0",
   "metadata": {},
   "outputs": [
    {
     "name": "stdout",
     "output_type": "stream",
     "text": [
      "Third Largest element is:  10\n"
     ]
    }
   ],
   "source": [
    "li = [32, 2, 1, 54, 5, 3, 10]\n",
    "third_largest = sorted(set(li))[-3]\n",
    "print(\"Third Largest element is: \",third_largest)"
   ]
  },
  {
   "cell_type": "markdown",
   "id": "57aa604f",
   "metadata": {},
   "source": [
    "### Write a Python program to get the frequency of the elements in a list.\n"
   ]
  },
  {
   "cell_type": "code",
   "execution_count": 38,
   "id": "11e59e55",
   "metadata": {},
   "outputs": [
    {
     "name": "stdout",
     "output_type": "stream",
     "text": [
      "Element Frequencies: \n",
      "2 -> 1\n",
      "str -> 3\n",
      "3 -> 1\n",
      "4 -> 1\n",
      "new -> 1\n",
      "22 -> 2\n",
      "11 -> 2\n"
     ]
    }
   ],
   "source": [
    "li = [2,'str',3, 4,'str','new',22,11,11,22,'str']\n",
    "freq =  {}\n",
    "for items in li:\n",
    "    if items in freq:\n",
    "        freq[items]+=1\n",
    "    else:\n",
    "        freq[items]=1\n",
    "print(\"Element Frequencies: \")\n",
    "for key, value in freq.items():\n",
    "    print(f\"{key} -> {value}\")"
   ]
  },
  {
   "cell_type": "markdown",
   "id": "c1c6dea4",
   "metadata": {},
   "source": [
    "### Write a Python program to check whether a list contains a sublist"
   ]
  },
  {
   "cell_type": "code",
   "execution_count": 39,
   "id": "1d71b8ec",
   "metadata": {},
   "outputs": [
    {
     "name": "stdout",
     "output_type": "stream",
     "text": [
      "li2 is a sublist of li1. \n"
     ]
    }
   ],
   "source": [
    "li1 = [1,2,3,4,5,6,7,8]\n",
    "li2 = [4,5,6]\n",
    "\n",
    "found = False\n",
    "for i in range(len(li1) - len(li2)+1):\n",
    "    if li1[i:i+len(li2)] == li2:\n",
    "        found = True\n",
    "        break\n",
    "if found:\n",
    "    print(\"li2 is a sublist of li1. \")\n",
    "else:\n",
    "    print(\"li2 is not sublist of li1\")"
   ]
  },
  {
   "cell_type": "markdown",
   "id": "85130048",
   "metadata": {},
   "source": [
    "### Write a Python program to generate all sublists of a list\n"
   ]
  },
  {
   "cell_type": "code",
   "execution_count": 40,
   "id": "268e3297",
   "metadata": {},
   "outputs": [
    {
     "name": "stdout",
     "output_type": "stream",
     "text": [
      "All Sublists: \n",
      "[1]\n",
      "[1, 2]\n",
      "[1, 2, 3]\n",
      "[1, 2, 3, 4]\n",
      "[2]\n",
      "[2, 3]\n",
      "[2, 3, 4]\n",
      "[3]\n",
      "[3, 4]\n",
      "[4]\n"
     ]
    }
   ],
   "source": [
    "lst = [1,2,3,4]\n",
    "sublists = []\n",
    "for i in range(len(lst)):\n",
    "    for j in range(i+1,len(lst)+1):\n",
    "        sublists.append(lst[i:j])\n",
    "print(\"All Sublists: \")\n",
    "for sublist in sublists:\n",
    "    print(sublist)"
   ]
  },
  {
   "cell_type": "markdown",
   "id": "0c9430a4",
   "metadata": {},
   "source": [
    "### Write a Python program to find common items from two lists\n"
   ]
  },
  {
   "cell_type": "code",
   "execution_count": 53,
   "id": "0b2ef8e6",
   "metadata": {},
   "outputs": [
    {
     "name": "stdout",
     "output_type": "stream",
     "text": [
      "Common items:  [3, 6, 8]\n"
     ]
    }
   ],
   "source": [
    "li1 = [1,2,3,4,5,6,7,8]\n",
    "li2 = [11,3,14,6,8,19]\n",
    "commen_items = []\n",
    "for items in li1:\n",
    "    if items in li2:\n",
    "        commen_items.append(items)\n",
    "print(\"Common items: \",commen_items)"
   ]
  },
  {
   "cell_type": "markdown",
   "id": "dfcc02d0",
   "metadata": {},
   "source": [
    "### How to flatten a list in python?\n"
   ]
  },
  {
   "cell_type": "code",
   "execution_count": 52,
   "id": "949dc874",
   "metadata": {},
   "outputs": [
    {
     "name": "stdout",
     "output_type": "stream",
     "text": [
      "Flattern List:  [1, 2, 3, 4, 5, 6]\n"
     ]
    }
   ],
   "source": [
    "nested_list = [[1, 2], [3, 4], [5, 6]]\n",
    "flat_list = []\n",
    "for sublist in nested_list:\n",
    "    for item in sublist:\n",
    "        flat_list.append(item)\n",
    "print(\"Flattern List: \",flat_list)"
   ]
  },
  {
   "cell_type": "markdown",
   "id": "2bc01b8f",
   "metadata": {},
   "source": [
    "### How to sort a list in ascending and descending order without using the sort function? "
   ]
  },
  {
   "cell_type": "markdown",
   "id": "f6ac4df3",
   "metadata": {},
   "source": [
    "- Built-in .sort() or sorted() time complexities \n",
    "Best Case: O(n log n)\tAverage Case: O(n log n)\t\n",
    "Worst Case: O(n log n)\n"
   ]
  },
  {
   "cell_type": "code",
   "execution_count": null,
   "id": "1beab760",
   "metadata": {},
   "outputs": [
    {
     "name": "stdout",
     "output_type": "stream",
     "text": [
      "Ascending Order:  [1, 2, 3, 4, 6, 8, 11, 14, 19]\n"
     ]
    }
   ],
   "source": [
    "## Bubble Sort\n",
    "li = [11,3,14,1,2,6,8,19,4]\n",
    "\n",
    "n = len(li)\n",
    "for i in range(n):\n",
    "    for j in range(0,n-i-1):\n",
    "        if li[j] > li[j+1]:\n",
    "            # Swap\n",
    "            li[j],li[j+1] = li[j+1],li[j] \n",
    "print(\"Ascending Order: \",li)"
   ]
  },
  {
   "cell_type": "code",
   "execution_count": null,
   "id": "f083ed3a",
   "metadata": {},
   "outputs": [],
   "source": [
    "## Selection Sort\n",
    "arr = [5, 2, 9, 1, 7]\n",
    "\n",
    "n = len(arr)\n",
    "for i in range(n):\n",
    "    min_index = i\n",
    "    for j in range(i+1, n):\n",
    "        if arr[j] < arr[min_index]:\n",
    "            min_index = j\n",
    "    arr[i], arr[min_index] = arr[min_index], arr[i]\n",
    "\n",
    "print(\"Ascending order:\", arr)"
   ]
  },
  {
   "cell_type": "code",
   "execution_count": 60,
   "id": "8dfeaa6e",
   "metadata": {},
   "outputs": [
    {
     "name": "stdout",
     "output_type": "stream",
     "text": [
      "[1, 2, 3, 4, 6, 8, 11, 14, 19]\n",
      "[19, 14, 11, 8, 6, 4, 3, 2, 1]\n"
     ]
    }
   ],
   "source": [
    "arr = [11,3,14,1,2,6,8,19,4]\n",
    "\n",
    "# Ascending\n",
    "print(sorted(arr))\n",
    "\n",
    "# Descending\n",
    "print(sorted(arr, reverse=True))"
   ]
  },
  {
   "cell_type": "markdown",
   "id": "2977f4b4",
   "metadata": {},
   "source": [
    "### How to check whether the list is empty or not?"
   ]
  },
  {
   "cell_type": "code",
   "execution_count": 61,
   "id": "7e91a7bc",
   "metadata": {},
   "outputs": [
    {
     "name": "stdout",
     "output_type": "stream",
     "text": [
      "The list is empty.\n"
     ]
    }
   ],
   "source": [
    "my_list = []\n",
    "\n",
    "if not my_list:\n",
    "    print(\"The list is empty.\")\n",
    "else:\n",
    "    print(\"The list is not empty.\")"
   ]
  },
  {
   "cell_type": "markdown",
   "id": "5b7501b2",
   "metadata": {},
   "source": [
    "### How to concatenate two lists?"
   ]
  },
  {
   "cell_type": "code",
   "execution_count": 63,
   "id": "1f9e7a74",
   "metadata": {},
   "outputs": [
    {
     "name": "stdout",
     "output_type": "stream",
     "text": [
      "[1, 2, 3, 4, 5, 6]\n"
     ]
    }
   ],
   "source": [
    "list1 = [1, 2, 3]\n",
    "list2 = [4, 5, 6]\n",
    "\n",
    "result = list1 + list2\n",
    "print(result)"
   ]
  },
  {
   "cell_type": "code",
   "execution_count": 64,
   "id": "155e56fa",
   "metadata": {},
   "outputs": [
    {
     "name": "stdout",
     "output_type": "stream",
     "text": [
      "[1, 2, 3, 4, 5, 6]\n"
     ]
    }
   ],
   "source": [
    "## Using Extend\n",
    "list1 = [1, 2, 3]\n",
    "list2 = [4, 5, 6]\n",
    "\n",
    "list1.extend(list2)\n",
    "print(list1)"
   ]
  },
  {
   "cell_type": "code",
   "execution_count": 65,
   "id": "468c93fa",
   "metadata": {},
   "outputs": [
    {
     "name": "stdout",
     "output_type": "stream",
     "text": [
      "[1, 2, 3, 4, 5, 6]\n"
     ]
    }
   ],
   "source": [
    "list1 = [1, 2, 3]\n",
    "list2 = [4, 5, 6]\n",
    "\n",
    "result = [*list1, *list2]\n",
    "print(result)"
   ]
  },
  {
   "cell_type": "markdown",
   "id": "5b2bcce8",
   "metadata": {},
   "source": [
    "### How to find the occurrences of an element in the python list?\n"
   ]
  },
  {
   "cell_type": "code",
   "execution_count": 66,
   "id": "1ae6fedb",
   "metadata": {},
   "outputs": [
    {
     "name": "stdout",
     "output_type": "stream",
     "text": [
      "Occurrences of 2: 3\n"
     ]
    }
   ],
   "source": [
    "my_list = [1, 2, 3, 2, 4, 2, 5]\n",
    "count = my_list.count(2)\n",
    "print(\"Occurrences of 2:\", count)"
   ]
  },
  {
   "cell_type": "code",
   "execution_count": 67,
   "id": "16332452",
   "metadata": {},
   "outputs": [
    {
     "name": "stdout",
     "output_type": "stream",
     "text": [
      "Occurrences of 2 : 3\n"
     ]
    }
   ],
   "source": [
    "my_list = [1, 2, 3, 2, 4, 2, 5]\n",
    "target = 2\n",
    "count = 0\n",
    "\n",
    "for item in my_list:\n",
    "    if item == target:\n",
    "        count += 1\n",
    "\n",
    "print(\"Occurrences of\", target, \":\", count)"
   ]
  },
  {
   "cell_type": "code",
   "execution_count": 68,
   "id": "8f91f4fe",
   "metadata": {},
   "outputs": [
    {
     "name": "stdout",
     "output_type": "stream",
     "text": [
      "Occurrences of 2: 3\n"
     ]
    }
   ],
   "source": [
    "my_list = [1, 2, 3, 2, 4, 2, 5]\n",
    "occurrence_dict = {}\n",
    "\n",
    "for item in my_list:\n",
    "    if item in occurrence_dict:\n",
    "        occurrence_dict[item] += 1\n",
    "    else:\n",
    "        occurrence_dict[item] = 1\n",
    "\n",
    "print(\"Occurrences of 2:\", occurrence_dict[2])"
   ]
  },
  {
   "cell_type": "markdown",
   "id": "82d6f290",
   "metadata": {},
   "source": [
    "### How to flatten a list in python"
   ]
  },
  {
   "cell_type": "code",
   "execution_count": 69,
   "id": "44ee437d",
   "metadata": {},
   "outputs": [
    {
     "name": "stdout",
     "output_type": "stream",
     "text": [
      "[1, 2, 3, 4, 5, 6]\n"
     ]
    }
   ],
   "source": [
    "nested_list = [[1, 2], [3, 4], [5, 6]]\n",
    "flat_list = [item for sublist in nested_list for item in sublist]\n",
    "print(flat_list)"
   ]
  },
  {
   "cell_type": "code",
   "execution_count": 70,
   "id": "b382241a",
   "metadata": {},
   "outputs": [
    {
     "name": "stdout",
     "output_type": "stream",
     "text": [
      "[1, 2, 3, 4, 5, 6]\n"
     ]
    }
   ],
   "source": [
    "nested_list = [[1, 2], [3, 4], [5, 6]]\n",
    "flat_list = []\n",
    "\n",
    "for sublist in nested_list:\n",
    "    for item in sublist:\n",
    "        flat_list.append(item)\n",
    "\n",
    "print(flat_list)"
   ]
  }
 ],
 "metadata": {
  "kernelspec": {
   "display_name": "Python 3",
   "language": "python",
   "name": "python3"
  },
  "language_info": {
   "codemirror_mode": {
    "name": "ipython",
    "version": 3
   },
   "file_extension": ".py",
   "mimetype": "text/x-python",
   "name": "python",
   "nbconvert_exporter": "python",
   "pygments_lexer": "ipython3",
   "version": "3.10.11"
  }
 },
 "nbformat": 4,
 "nbformat_minor": 5
}
